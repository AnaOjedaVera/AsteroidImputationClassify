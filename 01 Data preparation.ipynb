{
 "cells": [
  {
   "cell_type": "markdown",
   "id": "d0bc3d60-365e-4cd8-926c-582746e5f05d",
   "metadata": {},
   "source": [
    "# Database Preparation"
   ]
  },
  {
   "cell_type": "markdown",
   "id": "de4289ce-38e9-49eb-abb6-f30958dfb972",
   "metadata": {
    "jp-MarkdownHeadingCollapsed": true
   },
   "source": [
    "## Libraries"
   ]
  },
  {
   "cell_type": "code",
   "execution_count": null,
   "id": "8f8524c7-2e32-4267-9668-045ac9eab58a",
   "metadata": {},
   "outputs": [],
   "source": [
    "import pandas as pd\n",
    "import numpy as np\n",
    "import matplotlib.pyplot as plt"
   ]
  },
  {
   "cell_type": "markdown",
   "id": "ba544102-46f5-4e84-8223-e352a064edea",
   "metadata": {
    "jp-MarkdownHeadingCollapsed": true
   },
   "source": [
    "## Creating new data frame and csv from classy\n",
    "\n",
    " Creating new DataFrame and CSV from the original data from `classy_data.csv`, with columns:\n",
    "\n",
    "| Spectra from 0.45 to 2.45 | Albedo | Names | Counts | Class_BDM (DeMeo) | Class_Asteroid_SF (Mahlke) |\n",
    "|--------------------------|--------|-------|--------|-------------------|--------------------------|"
   ]
  },
  {
   "cell_type": "code",
   "execution_count": null,
   "id": "8c83594c-232f-4eb0-83a4-debccc30a41d",
   "metadata": {
    "jp-MarkdownHeadingCollapsed": true
   },
   "outputs": [],
   "source": [
    "# Load the original CSV file\n",
    "csv_file_path = 'classy_data.csv'\n",
    "df = pd.read_csv(csv_file_path)\n",
    "\n",
    "# Define the columns to keep in the specified order\n",
    "selected_columns = list(df.columns[3:56]) + [df.columns[62], df.columns[2], df.columns[57], df.columns[114], df.columns[153]]\n",
    "\n",
    "# Create a new DataFrame with the selected columns\n",
    "df_selected = df[selected_columns]\n",
    "\n",
    "# Save the new DataFrame to a CSV file\n",
    "df_selected.to_csv('01-Base.csv', index=False)\n",
    "\n",
    "# Print confirmation message\n",
    "print(\"File '01-Base.csv' has been created successfully!\")"
   ]
  },
  {
   "cell_type": "code",
   "execution_count": null,
   "id": "9d55fad5-7903-40dc-a872-61ffd67e480e",
   "metadata": {
    "scrolled": true
   },
   "outputs": [],
   "source": [
    "csv_file_path = '01-Base.csv'\n",
    "df = pd.read_csv(csv_file_path)\n",
    "df"
   ]
  },
  {
   "cell_type": "code",
   "execution_count": null,
   "id": "25a3d030-2f17-42b3-a1b7-a91f94f60590",
   "metadata": {},
   "outputs": [],
   "source": [
    "for i, col in enumerate(df.columns):\n",
    "    print(f\"Column {i}: {col}\")"
   ]
  },
  {
   "cell_type": "markdown",
   "id": "0404a3c5-4b6d-4eaf-9a26-a829e8b39d8e",
   "metadata": {
    "jp-MarkdownHeadingCollapsed": true
   },
   "source": [
    "## Data exploration\n",
    "\n",
    "Calculating completeness percentage and histrogram of the spectra and albedo. A sample removal was performed as well as a new CSV `02-Base.csv` excluding samples within classes O and X for further analysis, as class O contained only 3 samples and class X do not have any albedos."
   ]
  },
  {
   "cell_type": "code",
   "execution_count": null,
   "id": "124ed39d-6435-405f-a556-b1fddf2e2458",
   "metadata": {},
   "outputs": [],
   "source": [
    "# Load the CSV file\n",
    "csv_file_path = '01-Base.csv'\n",
    "df = pd.read_csv(csv_file_path)\n",
    "\n",
    "# Select the first 53 columns (0 to 52)\n",
    "df_spectra = df.iloc[:, 0:53]\n",
    "\n",
    "# Calculate overall missing data percentage\n",
    "total_values = df_spectra.size\n",
    "missing_values = df_spectra.isna().sum().sum()\n",
    "missing_percentage = (missing_values / total_values) * 100\n",
    "completeness_percentage = 100 - missing_percentage\n",
    "\n",
    "# Convert first_valid_index() and last_valid_index() to integer positions\n",
    "first_valid = df_spectra.apply(lambda row: row.first_valid_index(), axis=1)\n",
    "last_valid = df_spectra.apply(lambda row: row.last_valid_index(), axis=1)\n",
    "\n",
    "# Convert column labels to integer indices\n",
    "column_index_map = {col: idx for idx, col in enumerate(df_spectra.columns)}\n",
    "first_valid_idx = first_valid.map(column_index_map)\n",
    "last_valid_idx = last_valid.map(column_index_map)\n",
    "\n",
    "# Initialize counters for left and right missing values\n",
    "left_missing, right_missing = 0, 0\n",
    "incomplete_samples = df_spectra[df_spectra.isna().any(axis=1)]  # Only consider incomplete samples\n",
    "\n",
    "for i, row in incomplete_samples.iterrows():\n",
    "    first_non_nan = first_valid_idx[i]\n",
    "    last_non_nan = last_valid_idx[i]\n",
    "\n",
    "    if pd.notna(first_non_nan) and pd.notna(last_non_nan):  # Ensure valid indices\n",
    "        left_missing += row.iloc[:int(first_non_nan)].isna().sum()   # Count NaNs before the first valid\n",
    "        right_missing += row.iloc[int(last_non_nan) + 1:].isna().sum()  # Count NaNs after the last valid\n",
    "\n",
    "# Compute percentages for left and right missing values\n",
    "total_incomplete_missing = left_missing + right_missing\n",
    "left_percentage = (left_missing / total_incomplete_missing) * 100 if total_incomplete_missing > 0 else 0\n",
    "right_percentage = (right_missing / total_incomplete_missing) * 100 if total_incomplete_missing > 0 else 0\n",
    "\n",
    "# Print results\n",
    "print(f\"Overall missing data percentage: {missing_percentage:.2f}%\")\n",
    "print(f\"Overall completeness percentage: {completeness_percentage:.2f}%\")\n",
    "print(f\"Missing data on the left side (excluding fully complete samples): {left_percentage:.2f}%\")\n",
    "print(f\"Missing data on the right side (excluding fully complete samples): {right_percentage:.2f}%\")\n"
   ]
  },
  {
   "cell_type": "code",
   "execution_count": null,
   "id": "5a967541-d06b-436f-82be-fb0f99a59114",
   "metadata": {
    "scrolled": true
   },
   "outputs": [],
   "source": [
    "# Calculate the percentage of completed (non-missing) values per column\n",
    "completion_percentage = df_spectra.notna().sum() / len(df_spectra) * 100\n",
    "total_samples_per_column = df_spectra.notna().sum()  # Total non-missing samples per column\n",
    "\n",
    "# Plot histogram (bar chart) of completion percentage per column\n",
    "fig, ax = plt.subplots(figsize=(13.5, 3.8))  # Slightly increase width, keep height\n",
    "\n",
    "# Make bars slightly wider\n",
    "bar_width = 0.89  # Slightly increase width (default is ~0.8)\n",
    "bars = ax.bar(df_spectra.columns.astype(str), completion_percentage, color=\"darkcyan\", align='center', width=bar_width)\n",
    "\n",
    "# Add total samples as labels inside the bars with DejaVu Serif font\n",
    "for bar, count in zip(bars, total_samples_per_column):\n",
    "    height = bar.get_height()\n",
    "    ax.text(bar.get_x() + bar.get_width()/2, height - 5, str(count),\n",
    "            ha='center', va='top', color='white', rotation=90, fontsize=11.7, fontname='DejaVu Serif')  # Apply font\n",
    "\n",
    "# Customize the plot with DejaVu Serif for axis labels and numbers\n",
    "ax.set_xlabel(\"Spectral Coverage (μm)\", fontsize=14, fontname='DejaVu Serif')\n",
    "ax.set_ylabel(\"Completion Percentage (%)\", fontsize=14, fontname='DejaVu Serif')\n",
    "\n",
    "# Adjust x-tick labels to be centered under the corresponding bars\n",
    "ax.set_xticks(range(len(df_spectra.columns)))  # Ensure correct x-tick positions\n",
    "ax.set_xticklabels(df_spectra.columns.astype(str), rotation=90, fontsize=13, fontname='DejaVu Serif', ha='center')\n",
    "\n",
    "ax.grid(axis=\"y\", linestyle=\"--\", alpha=0.7)\n",
    "\n",
    "ax.set_xlim(left=-0.7, right=len(df_spectra.columns) - 0.4)\n",
    "# Remove title\n",
    "ax.set_title(\"\")\n",
    "\n",
    "# Save the figure as PDF\n",
    "pdf_path = \"completion_histogram.pdf\"\n",
    "plt.savefig(pdf_path, format=\"pdf\", bbox_inches=\"tight\")\n",
    "plt.show()"
   ]
  },
  {
   "cell_type": "code",
   "execution_count": null,
   "id": "6d9a96d3-1b2d-4e8e-8632-9736f08fdfde",
   "metadata": {},
   "outputs": [],
   "source": [
    "# Calculate completeness of column 53 (Albedo)\n",
    "albedo_column = df.iloc[:, 53]\n",
    "num_samples_with_data = albedo_column.notna().sum()\n",
    "num_samples_total = len(albedo_column)\n",
    "completeness_percentage = num_samples_with_data / num_samples_total * 100\n",
    "print(f\"Number of samples with Albedo data: {num_samples_with_data}\")\n",
    "print(f\"Completeness of column 53 (Albedo): {completeness_percentage:.2f}%\")"
   ]
  },
  {
   "cell_type": "code",
   "execution_count": null,
   "id": "f7b00949-4aa0-47f5-84c3-94914af86e75",
   "metadata": {},
   "outputs": [],
   "source": [
    "# Load the CSV file\n",
    "csv_file_path = '01-Base.csv'\n",
    "df = pd.read_csv(csv_file_path)\n",
    "\n",
    "# Extract albedo classification column\n",
    "albedo_column = df.iloc[:, 53]\n",
    "\n",
    "# Identify samples to exclude based on Mahlke taxonomy\n",
    "excluded_samples = df[df['class_asteroid_sf'].isin(['O', 'X'])]\n",
    "excluded_indices = excluded_samples.index\n",
    "\n",
    "# Mahlke Scheme\n",
    "original_mahlke_classes = df['class_asteroid_sf'].copy()\n",
    "class_mapping_mahlke = {label: idx for idx, label in enumerate(np.unique(df['class_asteroid_sf']))}\n",
    "class_counts_mahlke = df['class_asteroid_sf'].value_counts()\n",
    "\n",
    "# Count occurrences of albedo values for each classification scheme\n",
    "albedo_counts_mahlke = df.groupby('class_asteroid_sf')[albedo_column.name].count()\n",
    "\n",
    "# Select the first 53 columns (0 to 52) for spectral data\n",
    "df_spectra = df.iloc[:, 0:53]\n",
    "\n",
    "# Calculate completeness percentage for each sample (row)\n",
    "sample_completeness = df_spectra.notna().sum(axis=1) / df_spectra.shape[1] * 100\n",
    "\n",
    "# Categorize samples into completeness ranges (100%, 90%, 80%, etc.)\n",
    "bins = list(range(0, 110, 10))  # Ranges: 0-10%, 10-20%, ..., 90-100%\n",
    "labels = [f\"{i}%\" for i in range(0, 100, 10)]\n",
    "\n",
    "# Assign each sample to a category\n",
    "df_spectra[\"Completeness Category\"] = pd.cut(sample_completeness, bins=bins, labels=labels, right=True)\n",
    "\n",
    "# Count samples per category and sort from most to least\n",
    "completeness_counts = df_spectra[\"Completeness Category\"].value_counts().sort_index(ascending=False)\n",
    "\n",
    "# Convert to DataFrame for display\n",
    "completeness_table = pd.DataFrame({\"Completeness Level\": completeness_counts.index, \"Number of Samples\": completeness_counts.values})\n",
    "\n",
    "# Print side by side with tabs\n",
    "print(\"Mahlke Scheme\\tSpectra\\tAlbedo\")\n",
    "print(\"-------------------------------------\")\n",
    "\n",
    "# Convert mappings to sorted lists for structured output (keep original class labels)\n",
    "mahlke_items = sorted(class_mapping_mahlke.items(), key=lambda x: x[1])\n",
    "\n",
    "# Print classification in a tabular format with albedo counts\n",
    "for class_label_mahlke, index_mahlke in mahlke_items:\n",
    "    count_mahlke = class_counts_mahlke.get(class_label_mahlke, 0) if class_label_mahlke else \"\"\n",
    "    albedo_mahlke = albedo_counts_mahlke.get(class_label_mahlke, 0) if class_label_mahlke else \"\"\n",
    "\n",
    "    print(f\"{class_label_mahlke} -> {index_mahlke}  \\t{count_mahlke}\\t{albedo_mahlke}\")\n",
    "\n",
    "# Print completeness table\n",
    "print(\"\\nCompleteness Table:\")\n",
    "print(completeness_table)\n"
   ]
  },
  {
   "cell_type": "code",
   "execution_count": null,
   "id": "61ec9b9f-a201-4cf9-a57f-92461efe2428",
   "metadata": {},
   "outputs": [],
   "source": [
    "# Load the CSV file\n",
    "csv_file_path = '01-Base.csv'\n",
    "df = pd.read_csv(csv_file_path)\n",
    "\n",
    "# Extract albedo classification column\n",
    "albedo_column = df.iloc[:, 53]\n",
    "\n",
    "# Identify samples to exclude based on Mahlke taxonomy\n",
    "excluded_samples = df[df['class_asteroid_sf'].isin(['O', 'X'])]\n",
    "excluded_indices = excluded_samples.index\n",
    "\n",
    "# Mahlke Scheme (excluding O and X classes)\n",
    "df_filtered = df.drop(index=excluded_indices)\n",
    "original_mahlke_classes = df_filtered['class_asteroid_sf'].copy()\n",
    "class_mapping_mahlke = {label: idx for idx, label in enumerate(np.unique(df_filtered['class_asteroid_sf']))}\n",
    "class_counts_mahlke = df_filtered['class_asteroid_sf'].value_counts()\n",
    "\n",
    "# Sort by class_asteroid_sf and then by name (column 54)\n",
    "df_filtered = df_filtered.sort_values(by=['class_asteroid_sf', df_filtered.columns[54]])\n",
    "\n",
    "# Save filtered and sorted DataFrame to new CSV\n",
    "filtered_csv_path = '02-Base.csv'\n",
    "df_filtered.to_csv(filtered_csv_path, index=False)\n",
    "\n",
    "# Count occurrences of albedo values for each classification scheme\n",
    "albedo_counts_mahlke = df_filtered.groupby('class_asteroid_sf')[albedo_column.name].count()\n",
    "\n",
    "# Select the first 53 columns (0 to 52) for spectral data\n",
    "df_spectra = df_filtered.iloc[:, 0:53]\n",
    "\n",
    "# Calculate completeness percentage for each sample (row)\n",
    "sample_completeness = df_spectra.notna().sum(axis=1) / df_spectra.shape[1] * 100\n",
    "\n",
    "# Categorize samples into completeness ranges (100%, 90%, 80%, etc.)\n",
    "bins = list(range(0, 110, 10))  # Ranges: 0-10%, 10-20%, ..., 90-100%\n",
    "labels = [f\"{i}%\" for i in range(0, 100, 10)]\n",
    "\n",
    "# Assign each sample to a category\n",
    "df_spectra[\"Completeness Category\"] = pd.cut(sample_completeness, bins=bins, labels=labels, right=True)\n",
    "\n",
    "# Count samples per category and sort from most to least\n",
    "completeness_counts = df_spectra[\"Completeness Category\"].value_counts().sort_index(ascending=False)\n",
    "\n",
    "# Convert to DataFrame for display\n",
    "completeness_table = pd.DataFrame({\"Completeness Level\": completeness_counts.index, \"Number of Samples\": completeness_counts.values})\n",
    "\n",
    "# Print side by side with tabs\n",
    "print(\"Mahlke Scheme\\tSpectra\\tAlbedo\")\n",
    "print(\"-------------------------------------\")\n",
    "\n",
    "# Convert mappings to sorted lists for structured output (keep original class labels)\n",
    "mahlke_items = sorted(class_mapping_mahlke.items(), key=lambda x: x[1])\n",
    "\n",
    "# Print classification in a tabular format with albedo counts\n",
    "for class_label_mahlke, index_mahlke in mahlke_items:\n",
    "    count_mahlke = class_counts_mahlke.get(class_label_mahlke, 0) if class_label_mahlke else \"\"\n",
    "    albedo_mahlke = albedo_counts_mahlke.get(class_label_mahlke, 0) if class_label_mahlke else \"\"\n",
    "\n",
    "    print(f\"{class_label_mahlke} -> {index_mahlke}  \\t{count_mahlke}\\t{albedo_mahlke}\")\n",
    "\n",
    "# Print completeness table\n",
    "print(\"\\nCompleteness Table:\")\n",
    "print(completeness_table)"
   ]
  },
  {
   "cell_type": "markdown",
   "id": "1c071e56-3ad5-4a36-9c31-b66e392db348",
   "metadata": {},
   "source": [
    "Ok, we are now ready to next stage with the new CSV `02-Base.csv`"
   ]
  },
  {
   "cell_type": "code",
   "execution_count": null,
   "id": "c6a95859-320c-455f-82a9-5d045d2dfb16",
   "metadata": {},
   "outputs": [],
   "source": [
    "# Load the CSV file\n",
    "df = pd.read_csv('02-Base.csv')\n",
    "\n",
    "# Select the first 53 columns (0 to 52)\n",
    "df_spectra = df.iloc[:, 0:53]\n",
    "\n",
    "# Extract the class column\n",
    "class_column = df.iloc[:, 57]\n",
    "\n",
    "# Check for complete spectra (no missing values in columns 0 to 52)\n",
    "complete_spectra_mask = df_spectra.iloc[:, 0:53].notna().all(axis=1)\n",
    "\n",
    "# Count the number of complete spectra per class\n",
    "class_counts = class_column[complete_spectra_mask].value_counts().reset_index()\n",
    "class_counts.columns = ['Class', 'Complete Spectra Count']\n",
    "\n",
    "# Sum all counts\n",
    "total_count = class_counts['Complete Spectra Count'].sum()\n",
    "\n",
    "# Display the result\n",
    "print(class_counts)\n",
    "print(\"\\nTotal number of complete spectra samples:\", total_count)"
   ]
  },
  {
   "cell_type": "code",
   "execution_count": null,
   "id": "efba1f41-adcc-4776-b06b-3248819b46f8",
   "metadata": {},
   "outputs": [],
   "source": [
    "# Load the CSV file\n",
    "df = pd.read_csv('02-Base.csv')\n",
    "# Calculate completeness of column 53 (Albedo)\n",
    "albedo_column = df.iloc[:, 53]\n",
    "num_samples_with_data = albedo_column.notna().sum()\n",
    "num_samples_total = len(albedo_column)\n",
    "completeness_percentage = num_samples_with_data / num_samples_total * 100\n",
    "print(f\"Number of samples with Albedo data: {num_samples_with_data}\")\n",
    "print(f\"Completeness of column 53 (Albedo): {completeness_percentage:.2f}%\")"
   ]
  },
  {
   "cell_type": "code",
   "execution_count": null,
   "id": "1923ce49-fc89-40c1-ade3-61c6a9f8c9b2",
   "metadata": {},
   "outputs": [],
   "source": []
  }
 ],
 "metadata": {
  "kernelspec": {
   "display_name": "Python 3 (ipykernel)",
   "language": "python",
   "name": "python3"
  },
  "language_info": {
   "codemirror_mode": {
    "name": "ipython",
    "version": 3
   },
   "file_extension": ".py",
   "mimetype": "text/x-python",
   "name": "python",
   "nbconvert_exporter": "python",
   "pygments_lexer": "ipython3",
   "version": "3.11.5"
  }
 },
 "nbformat": 4,
 "nbformat_minor": 5
}
